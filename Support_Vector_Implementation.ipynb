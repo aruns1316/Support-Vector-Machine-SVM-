{
  "nbformat": 4,
  "nbformat_minor": 0,
  "metadata": {
    "colab": {
      "provenance": []
    },
    "kernelspec": {
      "name": "python3",
      "display_name": "Python 3"
    },
    "language_info": {
      "name": "python"
    }
  },
  "cells": [
    {
      "cell_type": "code",
      "execution_count": null,
      "metadata": {
        "id": "wg1oonqfVBt2"
      },
      "outputs": [],
      "source": [
        "import pandas as pd\n",
        "import numpy as np\n",
        "import seaborn as sns\n",
        "import matplotlib.pyplot as plt\n",
        "\n",
        "import warnings\n",
        "warnings.filterwarnings(\"ignore\")"
      ]
    },
    {
      "cell_type": "code",
      "source": [
        "from sklearn.datasets import make_classification\n",
        "X, y = make_classification(n_samples = 1000, n_classes = 2, n_clusters_per_class = 2, n_redundant = 0)"
      ],
      "metadata": {
        "id": "AMHUMFTWadVB"
      },
      "execution_count": 7,
      "outputs": []
    },
    {
      "cell_type": "code",
      "source": [
        "X"
      ],
      "metadata": {
        "colab": {
          "base_uri": "https://localhost:8080/"
        },
        "id": "j1ixPMBFcQKa",
        "outputId": "6036bf29-7d25-408d-fd70-245c1f50b82d"
      },
      "execution_count": 8,
      "outputs": [
        {
          "output_type": "execute_result",
          "data": {
            "text/plain": [
              "array([[-1.47032438,  0.90626804,  0.91741301, ..., -1.88765392,\n",
              "        -1.71230752,  1.04789102],\n",
              "       [-1.94855357, -0.98478736,  0.78539737, ..., -0.11830274,\n",
              "         0.13241746, -0.94705471],\n",
              "       [-0.96277228, -0.55564685, -0.1092145 , ..., -0.30594542,\n",
              "         1.29529146,  1.19898393],\n",
              "       ...,\n",
              "       [ 0.37824486, -0.14615871, -0.06380284, ...,  0.42594529,\n",
              "        -0.06463129,  1.01740846],\n",
              "       [-1.15238298,  1.61582424,  0.0670444 , ...,  0.42631164,\n",
              "        -2.1032545 ,  0.28440321],\n",
              "       [-0.2909635 ,  0.61030149, -1.58093074, ..., -0.47291026,\n",
              "        -0.61211165,  0.81379132]])"
            ]
          },
          "metadata": {},
          "execution_count": 8
        }
      ]
    },
    {
      "cell_type": "code",
      "source": [
        "y"
      ],
      "metadata": {
        "colab": {
          "base_uri": "https://localhost:8080/"
        },
        "id": "lndVoBPAdFIF",
        "outputId": "46b1d556-6730-482f-f804-b15977ff0821"
      },
      "execution_count": 9,
      "outputs": [
        {
          "output_type": "execute_result",
          "data": {
            "text/plain": [
              "array([1, 0, 1, 1, 1, 0, 0, 1, 1, 1, 1, 0, 1, 1, 0, 1, 0, 0, 1, 0, 1, 0,\n",
              "       0, 1, 0, 0, 1, 0, 0, 1, 0, 1, 0, 0, 0, 0, 0, 1, 1, 1, 1, 0, 0, 0,\n",
              "       0, 1, 0, 0, 0, 1, 1, 0, 0, 1, 1, 0, 1, 1, 1, 1, 0, 1, 0, 1, 1, 1,\n",
              "       0, 1, 1, 0, 0, 1, 1, 0, 1, 1, 0, 0, 1, 1, 0, 1, 0, 1, 1, 0, 1, 0,\n",
              "       1, 1, 0, 1, 0, 1, 1, 0, 0, 0, 1, 1, 1, 1, 0, 1, 0, 0, 0, 0, 1, 0,\n",
              "       0, 0, 0, 1, 1, 1, 0, 1, 0, 1, 1, 1, 1, 1, 0, 1, 1, 1, 0, 1, 1, 0,\n",
              "       1, 1, 0, 0, 0, 0, 1, 0, 1, 1, 1, 1, 1, 0, 0, 0, 0, 0, 1, 1, 0, 0,\n",
              "       0, 0, 0, 1, 1, 1, 1, 0, 0, 0, 0, 0, 0, 0, 1, 1, 1, 0, 1, 0, 0, 1,\n",
              "       0, 0, 0, 0, 1, 0, 1, 0, 0, 0, 1, 1, 1, 1, 0, 1, 1, 0, 0, 0, 1, 1,\n",
              "       1, 1, 1, 0, 1, 0, 1, 1, 0, 0, 1, 1, 1, 0, 1, 1, 1, 0, 0, 0, 0, 1,\n",
              "       1, 1, 1, 0, 0, 1, 1, 1, 0, 1, 0, 1, 1, 0, 1, 0, 1, 0, 1, 0, 0, 0,\n",
              "       1, 0, 0, 1, 1, 1, 0, 0, 1, 1, 0, 0, 0, 0, 0, 0, 0, 1, 0, 0, 1, 0,\n",
              "       1, 0, 1, 0, 0, 1, 1, 1, 1, 0, 1, 0, 0, 0, 0, 0, 1, 0, 1, 1, 1, 0,\n",
              "       1, 1, 0, 1, 0, 1, 0, 1, 0, 0, 1, 1, 1, 1, 1, 0, 0, 0, 0, 0, 1, 1,\n",
              "       1, 1, 1, 1, 1, 0, 0, 0, 0, 1, 0, 0, 1, 0, 1, 0, 1, 1, 1, 0, 0, 0,\n",
              "       0, 1, 1, 1, 0, 1, 1, 1, 0, 1, 1, 0, 1, 0, 1, 1, 0, 1, 0, 0, 1, 0,\n",
              "       0, 1, 1, 0, 0, 0, 1, 1, 1, 0, 0, 0, 0, 0, 1, 1, 1, 1, 1, 0, 0, 0,\n",
              "       0, 1, 0, 0, 1, 1, 0, 1, 1, 0, 1, 1, 0, 0, 0, 0, 0, 0, 0, 1, 0, 0,\n",
              "       0, 1, 1, 1, 0, 1, 0, 0, 0, 1, 0, 1, 0, 1, 0, 0, 1, 0, 1, 0, 1, 0,\n",
              "       1, 0, 1, 0, 1, 1, 0, 1, 0, 1, 0, 0, 0, 1, 1, 0, 1, 0, 0, 1, 1, 0,\n",
              "       1, 1, 1, 0, 0, 0, 0, 1, 0, 1, 0, 0, 1, 0, 0, 0, 1, 1, 1, 1, 0, 0,\n",
              "       1, 0, 0, 0, 1, 0, 0, 0, 1, 0, 1, 1, 1, 0, 0, 1, 1, 1, 1, 1, 0, 0,\n",
              "       1, 1, 0, 1, 1, 0, 0, 0, 1, 0, 1, 0, 0, 1, 0, 1, 0, 0, 1, 0, 1, 0,\n",
              "       0, 0, 1, 1, 0, 1, 1, 0, 0, 0, 1, 1, 0, 1, 1, 1, 1, 1, 1, 0, 1, 1,\n",
              "       0, 1, 0, 1, 1, 1, 1, 0, 0, 1, 0, 1, 0, 1, 0, 1, 0, 0, 1, 1, 0, 0,\n",
              "       1, 1, 0, 0, 1, 0, 1, 1, 1, 1, 1, 0, 1, 1, 0, 1, 1, 1, 1, 0, 0, 1,\n",
              "       0, 1, 1, 1, 0, 1, 0, 0, 1, 0, 1, 0, 1, 0, 0, 0, 0, 0, 0, 0, 1, 1,\n",
              "       1, 1, 1, 0, 0, 0, 0, 0, 1, 1, 1, 1, 1, 0, 1, 1, 1, 0, 0, 1, 0, 0,\n",
              "       1, 0, 1, 0, 0, 0, 0, 1, 1, 0, 0, 1, 0, 0, 0, 0, 0, 0, 0, 1, 1, 1,\n",
              "       1, 0, 1, 1, 1, 0, 1, 1, 1, 0, 0, 0, 0, 1, 1, 0, 0, 1, 0, 1, 1, 0,\n",
              "       0, 0, 0, 1, 1, 0, 1, 0, 0, 1, 0, 0, 1, 1, 0, 0, 0, 1, 1, 0, 1, 1,\n",
              "       1, 0, 0, 0, 1, 1, 0, 0, 1, 0, 1, 0, 1, 0, 0, 0, 0, 1, 0, 1, 1, 1,\n",
              "       0, 0, 1, 1, 1, 1, 0, 1, 0, 1, 1, 0, 0, 1, 1, 1, 0, 1, 0, 0, 0, 0,\n",
              "       0, 1, 0, 1, 1, 1, 1, 1, 0, 0, 1, 0, 1, 0, 1, 0, 0, 1, 1, 1, 0, 1,\n",
              "       0, 0, 0, 0, 1, 0, 1, 0, 1, 0, 0, 0, 0, 1, 1, 0, 1, 1, 0, 0, 1, 0,\n",
              "       1, 1, 0, 0, 0, 0, 1, 0, 0, 0, 0, 1, 1, 1, 0, 0, 0, 0, 1, 0, 1, 0,\n",
              "       0, 1, 0, 1, 0, 1, 0, 0, 1, 1, 0, 1, 0, 1, 0, 0, 1, 1, 0, 1, 1, 0,\n",
              "       0, 0, 0, 1, 1, 0, 1, 0, 0, 1, 0, 0, 0, 1, 1, 0, 0, 1, 1, 0, 1, 1,\n",
              "       0, 1, 0, 0, 1, 1, 1, 0, 0, 1, 1, 0, 1, 1, 1, 1, 0, 0, 1, 1, 0, 0,\n",
              "       1, 1, 1, 0, 1, 1, 1, 0, 0, 0, 0, 1, 0, 0, 1, 1, 1, 1, 0, 0, 1, 1,\n",
              "       0, 0, 0, 0, 1, 1, 0, 1, 0, 1, 1, 1, 1, 0, 0, 1, 0, 1, 1, 0, 1, 0,\n",
              "       0, 1, 0, 1, 0, 0, 1, 1, 0, 1, 0, 0, 0, 0, 1, 0, 0, 1, 0, 0, 1, 1,\n",
              "       1, 1, 0, 0, 1, 1, 0, 1, 1, 0, 0, 1, 0, 0, 1, 0, 0, 0, 1, 1, 0, 1,\n",
              "       1, 1, 0, 0, 1, 0, 1, 0, 0, 0, 0, 0, 1, 1, 1, 1, 1, 1, 1, 1, 1, 1,\n",
              "       0, 0, 1, 1, 0, 0, 0, 1, 0, 1, 0, 1, 0, 1, 0, 0, 0, 0, 1, 1, 1, 1,\n",
              "       1, 1, 0, 1, 0, 1, 0, 1, 1, 1])"
            ]
          },
          "metadata": {},
          "execution_count": 9
        }
      ]
    },
    {
      "cell_type": "code",
      "source": [
        "pd.DataFrame(X)[0]"
      ],
      "metadata": {
        "colab": {
          "base_uri": "https://localhost:8080/",
          "height": 458
        },
        "id": "GlC4n3DydFXD",
        "outputId": "2f1cda7f-0f2e-4f77-f644-fc8911aad018"
      },
      "execution_count": 11,
      "outputs": [
        {
          "output_type": "execute_result",
          "data": {
            "text/plain": [
              "0     -1.470324\n",
              "1     -1.948554\n",
              "2     -0.962772\n",
              "3     -0.695093\n",
              "4     -1.180663\n",
              "         ...   \n",
              "995    0.828860\n",
              "996    0.375211\n",
              "997    0.378245\n",
              "998   -1.152383\n",
              "999   -0.290963\n",
              "Name: 0, Length: 1000, dtype: float64"
            ],
            "text/html": [
              "<div>\n",
              "<style scoped>\n",
              "    .dataframe tbody tr th:only-of-type {\n",
              "        vertical-align: middle;\n",
              "    }\n",
              "\n",
              "    .dataframe tbody tr th {\n",
              "        vertical-align: top;\n",
              "    }\n",
              "\n",
              "    .dataframe thead th {\n",
              "        text-align: right;\n",
              "    }\n",
              "</style>\n",
              "<table border=\"1\" class=\"dataframe\">\n",
              "  <thead>\n",
              "    <tr style=\"text-align: right;\">\n",
              "      <th></th>\n",
              "      <th>0</th>\n",
              "    </tr>\n",
              "  </thead>\n",
              "  <tbody>\n",
              "    <tr>\n",
              "      <th>0</th>\n",
              "      <td>-1.470324</td>\n",
              "    </tr>\n",
              "    <tr>\n",
              "      <th>1</th>\n",
              "      <td>-1.948554</td>\n",
              "    </tr>\n",
              "    <tr>\n",
              "      <th>2</th>\n",
              "      <td>-0.962772</td>\n",
              "    </tr>\n",
              "    <tr>\n",
              "      <th>3</th>\n",
              "      <td>-0.695093</td>\n",
              "    </tr>\n",
              "    <tr>\n",
              "      <th>4</th>\n",
              "      <td>-1.180663</td>\n",
              "    </tr>\n",
              "    <tr>\n",
              "      <th>...</th>\n",
              "      <td>...</td>\n",
              "    </tr>\n",
              "    <tr>\n",
              "      <th>995</th>\n",
              "      <td>0.828860</td>\n",
              "    </tr>\n",
              "    <tr>\n",
              "      <th>996</th>\n",
              "      <td>0.375211</td>\n",
              "    </tr>\n",
              "    <tr>\n",
              "      <th>997</th>\n",
              "      <td>0.378245</td>\n",
              "    </tr>\n",
              "    <tr>\n",
              "      <th>998</th>\n",
              "      <td>-1.152383</td>\n",
              "    </tr>\n",
              "    <tr>\n",
              "      <th>999</th>\n",
              "      <td>-0.290963</td>\n",
              "    </tr>\n",
              "  </tbody>\n",
              "</table>\n",
              "<p>1000 rows × 1 columns</p>\n",
              "</div><br><label><b>dtype:</b> float64</label>"
            ]
          },
          "metadata": {},
          "execution_count": 11
        }
      ]
    },
    {
      "cell_type": "code",
      "source": [
        "pd.DataFrame(X)[1]"
      ],
      "metadata": {
        "colab": {
          "base_uri": "https://localhost:8080/",
          "height": 458
        },
        "id": "gCM-oeLxdkkC",
        "outputId": "ca29f11e-fe40-4e72-ef25-b8dae6588fb6"
      },
      "execution_count": 12,
      "outputs": [
        {
          "output_type": "execute_result",
          "data": {
            "text/plain": [
              "0      0.906268\n",
              "1     -0.984787\n",
              "2     -0.555647\n",
              "3     -1.327556\n",
              "4     -2.800138\n",
              "         ...   \n",
              "995   -0.242471\n",
              "996    1.701435\n",
              "997   -0.146159\n",
              "998    1.615824\n",
              "999    0.610301\n",
              "Name: 1, Length: 1000, dtype: float64"
            ],
            "text/html": [
              "<div>\n",
              "<style scoped>\n",
              "    .dataframe tbody tr th:only-of-type {\n",
              "        vertical-align: middle;\n",
              "    }\n",
              "\n",
              "    .dataframe tbody tr th {\n",
              "        vertical-align: top;\n",
              "    }\n",
              "\n",
              "    .dataframe thead th {\n",
              "        text-align: right;\n",
              "    }\n",
              "</style>\n",
              "<table border=\"1\" class=\"dataframe\">\n",
              "  <thead>\n",
              "    <tr style=\"text-align: right;\">\n",
              "      <th></th>\n",
              "      <th>1</th>\n",
              "    </tr>\n",
              "  </thead>\n",
              "  <tbody>\n",
              "    <tr>\n",
              "      <th>0</th>\n",
              "      <td>0.906268</td>\n",
              "    </tr>\n",
              "    <tr>\n",
              "      <th>1</th>\n",
              "      <td>-0.984787</td>\n",
              "    </tr>\n",
              "    <tr>\n",
              "      <th>2</th>\n",
              "      <td>-0.555647</td>\n",
              "    </tr>\n",
              "    <tr>\n",
              "      <th>3</th>\n",
              "      <td>-1.327556</td>\n",
              "    </tr>\n",
              "    <tr>\n",
              "      <th>4</th>\n",
              "      <td>-2.800138</td>\n",
              "    </tr>\n",
              "    <tr>\n",
              "      <th>...</th>\n",
              "      <td>...</td>\n",
              "    </tr>\n",
              "    <tr>\n",
              "      <th>995</th>\n",
              "      <td>-0.242471</td>\n",
              "    </tr>\n",
              "    <tr>\n",
              "      <th>996</th>\n",
              "      <td>1.701435</td>\n",
              "    </tr>\n",
              "    <tr>\n",
              "      <th>997</th>\n",
              "      <td>-0.146159</td>\n",
              "    </tr>\n",
              "    <tr>\n",
              "      <th>998</th>\n",
              "      <td>1.615824</td>\n",
              "    </tr>\n",
              "    <tr>\n",
              "      <th>999</th>\n",
              "      <td>0.610301</td>\n",
              "    </tr>\n",
              "  </tbody>\n",
              "</table>\n",
              "<p>1000 rows × 1 columns</p>\n",
              "</div><br><label><b>dtype:</b> float64</label>"
            ]
          },
          "metadata": {},
          "execution_count": 12
        }
      ]
    },
    {
      "cell_type": "code",
      "source": [
        "sns.scatterplot(x = pd.DataFrame(X)[0], y = pd.DataFrame(X)[1], hue = y)"
      ],
      "metadata": {
        "colab": {
          "base_uri": "https://localhost:8080/",
          "height": 467
        },
        "id": "n0cVo2ARdtXo",
        "outputId": "372b09e8-d0af-49bd-fe62-838b65f52db3"
      },
      "execution_count": 16,
      "outputs": [
        {
          "output_type": "execute_result",
          "data": {
            "text/plain": [
              "<Axes: xlabel='0', ylabel='1'>"
            ]
          },
          "metadata": {},
          "execution_count": 16
        },
        {
          "output_type": "display_data",
          "data": {
            "text/plain": [
              "<Figure size 640x480 with 1 Axes>"
            ],
            "image/png": "[encoded data removed]"
          },
          "metadata": {}
        }
      ]
    },
    {
      "cell_type": "code",
      "source": [
        "from sklearn.model_selection import train_test_split"
      ],
      "metadata": {
        "id": "OpW68AJsehP1"
      },
      "execution_count": 17,
      "outputs": []
    },
    {
      "cell_type": "code",
      "source": [
        "X_train, X_test, y_train, y_test = train_test_split(X, y, test_size = 0.30, random_state = 1)"
      ],
      "metadata": {
        "id": "_4dfAhtCfOQy"
      },
      "execution_count": 18,
      "outputs": []
    },
    {
      "cell_type": "code",
      "source": [
        "X_train.shape, X_test.shape"
      ],
      "metadata": {
        "colab": {
          "base_uri": "https://localhost:8080/"
        },
        "id": "VC43mnWbfdR8",
        "outputId": "0f5b482c-115e-4446-ba8b-48aaacd09da9"
      },
      "execution_count": 19,
      "outputs": [
        {
          "output_type": "execute_result",
          "data": {
            "text/plain": [
              "((700, 20), (300, 20))"
            ]
          },
          "metadata": {},
          "execution_count": 19
        }
      ]
    },
    {
      "cell_type": "code",
      "source": [
        "from sklearn.svm import SVC"
      ],
      "metadata": {
        "id": "6NGiZpFchHIB"
      },
      "execution_count": 20,
      "outputs": []
    },
    {
      "cell_type": "code",
      "source": [
        "classifier = SVC(kernel = 'linear')"
      ],
      "metadata": {
        "id": "Zomnci8giIF7"
      },
      "execution_count": 25,
      "outputs": []
    },
    {
      "cell_type": "code",
      "source": [
        "classifier.fit(X_train, y_train)"
      ],
      "metadata": {
        "colab": {
          "base_uri": "https://localhost:8080/",
          "height": 74
        },
        "id": "RQ7c_roFiMov",
        "outputId": "fbdab203-cced-464d-a5e5-1d273819c644"
      },
      "execution_count": 28,
      "outputs": [
        {
          "output_type": "execute_result",
          "data": {
            "text/plain": [
              "SVC(kernel='linear')"
            ],
            "text/html": [
              "<style>#sk-container-id-1 {color: black;}#sk-container-id-1 pre{padding: 0;}#sk-container-id-1 div.sk-toggleable {background-color: white;}#sk-container-id-1 label.sk-toggleable__label {cursor: pointer;display: block;width: 100%;margin-bottom: 0;padding: 0.3em;box-sizing: border-box;text-align: center;}#sk-container-id-1 label.sk-toggleable__label-arrow:before {content: \"▸\";float: left;margin-right: 0.25em;color: #696969;}#sk-container-id-1 label.sk-toggleable__label-arrow:hover:before {color: black;}#sk-container-id-1 div.sk-estimator:hover label.sk-toggleable__label-arrow:before {color: black;}#sk-container-id-1 div.sk-toggleable__content {max-height: 0;max-width: 0;overflow: hidden;text-align: left;background-color: #f0f8ff;}#sk-container-id-1 div.sk-toggleable__content pre {margin: 0.2em;color: black;border-radius: 0.25em;background-color: #f0f8ff;}#sk-container-id-1 input.sk-toggleable__control:checked~div.sk-toggleable__content {max-height: 200px;max-width: 100%;overflow: auto;}#sk-container-id-1 input.sk-toggleable__control:checked~label.sk-toggleable__label-arrow:before {content: \"▾\";}#sk-container-id-1 div.sk-estimator input.sk-toggleable__control:checked~label.sk-toggleable__label {background-color: #d4ebff;}#sk-container-id-1 div.sk-label input.sk-toggleable__control:checked~label.sk-toggleable__label {background-color: #d4ebff;}#sk-container-id-1 input.sk-hidden--visually {border: 0;clip: rect(1px 1px 1px 1px);clip: rect(1px, 1px, 1px, 1px);height: 1px;margin: -1px;overflow: hidden;padding: 0;position: absolute;width: 1px;}#sk-container-id-1 div.sk-estimator {font-family: monospace;background-color: #f0f8ff;border: 1px dotted black;border-radius: 0.25em;box-sizing: border-box;margin-bottom: 0.5em;}#sk-container-id-1 div.sk-estimator:hover {background-color: #d4ebff;}#sk-container-id-1 div.sk-parallel-item::after {content: \"\";width: 100%;border-bottom: 1px solid gray;flex-grow: 1;}#sk-container-id-1 div.sk-label:hover label.sk-toggleable__label {background-color: #d4ebff;}#sk-container-id-1 div.sk-serial::before {content: \"\";position: absolute;border-left: 1px solid gray;box-sizing: border-box;top: 0;bottom: 0;left: 50%;z-index: 0;}#sk-container-id-1 div.sk-serial {display: flex;flex-direction: column;align-items: center;background-color: white;padding-right: 0.2em;padding-left: 0.2em;position: relative;}#sk-container-id-1 div.sk-item {position: relative;z-index: 1;}#sk-container-id-1 div.sk-parallel {display: flex;align-items: stretch;justify-content: center;background-color: white;position: relative;}#sk-container-id-1 div.sk-item::before, #sk-container-id-1 div.sk-parallel-item::before {content: \"\";position: absolute;border-left: 1px solid gray;box-sizing: border-box;top: 0;bottom: 0;left: 50%;z-index: -1;}#sk-container-id-1 div.sk-parallel-item {display: flex;flex-direction: column;z-index: 1;position: relative;background-color: white;}#sk-container-id-1 div.sk-parallel-item:first-child::after {align-self: flex-end;width: 50%;}#sk-container-id-1 div.sk-parallel-item:last-child::after {align-self: flex-start;width: 50%;}#sk-container-id-1 div.sk-parallel-item:only-child::after {width: 0;}#sk-container-id-1 div.sk-dashed-wrapped {border: 1px dashed gray;margin: 0 0.4em 0.5em 0.4em;box-sizing: border-box;padding-bottom: 0.4em;background-color: white;}#sk-container-id-1 div.sk-label label {font-family: monospace;font-weight: bold;display: inline-block;line-height: 1.2em;}#sk-container-id-1 div.sk-label-container {text-align: center;}#sk-container-id-1 div.sk-container {/* jupyter's `normalize.less` sets `[hidden] { display: none; }` but bootstrap.min.css set `[hidden] { display: none !important; }` so we also need the `!important` here to be able to override the default hidden behavior on the sphinx rendered scikit-learn.org. See: https://github.com/scikit-learn/scikit-learn/issues/21755 */display: inline-block !important;position: relative;}#sk-container-id-1 div.sk-text-repr-fallback {display: none;}</style><div id=\"sk-container-id-1\" class=\"sk-top-container\"><div class=\"sk-text-repr-fallback\"><pre>SVC(kernel=&#x27;linear&#x27;)</pre><b>In a Jupyter environment, please rerun this cell to show the HTML representation or trust the notebook. <br />On GitHub, the HTML representation is unable to render, please try loading this page with nbviewer.org.</b></div><div class=\"sk-container\" hidden><div class=\"sk-item\"><div class=\"sk-estimator sk-toggleable\"><input class=\"sk-toggleable__control sk-hidden--visually\" id=\"sk-estimator-id-1\" type=\"checkbox\" checked><label for=\"sk-estimator-id-1\" class=\"sk-toggleable__label sk-toggleable__label-arrow\">SVC</label><div class=\"sk-toggleable__content\"><pre>SVC(kernel=&#x27;linear&#x27;)</pre></div></div></div></div></div>"
            ]
          },
          "metadata": {},
          "execution_count": 28
        }
      ]
    },
    {
      "cell_type": "code",
      "source": [
        "classifier.coef_"
      ],
      "metadata": {
        "colab": {
          "base_uri": "https://localhost:8080/"
        },
        "id": "Y0cai61EihCN",
        "outputId": "36fe3b4b-20b9-4ed3-95ed-393733cdc5a8"
      },
      "execution_count": 29,
      "outputs": [
        {
          "output_type": "execute_result",
          "data": {
            "text/plain": [
              "array([[ 3.27223438e-02,  5.88663696e-02,  8.12741211e-02,\n",
              "        -6.60521226e-02, -9.79924263e-02,  1.18644351e-03,\n",
              "         5.80467612e-02,  1.89397760e-01,  3.16668179e-02,\n",
              "        -1.14049092e-01, -3.41525188e-02,  2.74563004e-02,\n",
              "         6.93893167e-02,  1.16262356e-01, -4.41874264e-02,\n",
              "         5.18391342e-03,  1.53502444e-01, -9.73442764e-02,\n",
              "        -4.46623030e-02,  2.26727136e+00]])"
            ]
          },
          "metadata": {},
          "execution_count": 29
        }
      ]
    },
    {
      "cell_type": "code",
      "source": [
        "y_pred = classifier.predict(X_test)"
      ],
      "metadata": {
        "id": "jvqLWQGxjAgl"
      },
      "execution_count": 38,
      "outputs": []
    },
    {
      "cell_type": "code",
      "source": [
        "y_pred"
      ],
      "metadata": {
        "colab": {
          "base_uri": "https://localhost:8080/"
        },
        "id": "PSOe1oA1jJ3a",
        "outputId": "e3476cbe-7981-427f-9866-fba9db2b10a6"
      },
      "execution_count": 39,
      "outputs": [
        {
          "output_type": "execute_result",
          "data": {
            "text/plain": [
              "array([0, 1, 1, 1, 1, 1, 1, 0, 0, 1, 0, 1, 0, 1, 1, 1, 0, 0, 0, 0, 1, 0,\n",
              "       0, 1, 0, 1, 1, 0, 0, 0, 0, 1, 1, 1, 0, 1, 1, 1, 1, 0, 1, 0, 0, 0,\n",
              "       0, 1, 1, 0, 0, 1, 1, 0, 0, 0, 0, 0, 1, 1, 0, 0, 1, 1, 0, 0, 0, 1,\n",
              "       0, 0, 0, 0, 1, 1, 0, 1, 1, 1, 0, 0, 1, 1, 0, 0, 1, 0, 0, 0, 0, 0,\n",
              "       1, 1, 0, 1, 1, 0, 1, 0, 1, 1, 0, 0, 0, 1, 1, 0, 0, 1, 0, 0, 1, 0,\n",
              "       1, 0, 1, 1, 0, 1, 1, 1, 1, 0, 1, 1, 1, 0, 1, 0, 0, 0, 0, 1, 1, 0,\n",
              "       0, 1, 1, 1, 1, 0, 1, 0, 0, 1, 1, 0, 0, 1, 1, 1, 0, 0, 1, 1, 1, 0,\n",
              "       1, 0, 0, 1, 1, 0, 1, 1, 1, 0, 1, 1, 0, 0, 1, 0, 1, 1, 1, 0, 0, 0,\n",
              "       1, 1, 0, 1, 0, 1, 1, 1, 1, 0, 0, 0, 0, 0, 1, 0, 0, 1, 0, 0, 0, 1,\n",
              "       1, 0, 1, 0, 0, 0, 1, 0, 0, 1, 1, 1, 0, 1, 1, 0, 1, 0, 0, 0, 1, 0,\n",
              "       1, 1, 0, 0, 1, 1, 0, 0, 1, 0, 1, 1, 0, 1, 1, 0, 0, 1, 0, 1, 1, 0,\n",
              "       1, 0, 0, 1, 1, 0, 0, 1, 1, 1, 0, 1, 0, 1, 0, 1, 0, 0, 1, 1, 1, 0,\n",
              "       0, 0, 0, 0, 0, 0, 0, 1, 1, 0, 0, 0, 1, 0, 0, 1, 1, 1, 1, 0, 0, 0,\n",
              "       1, 0, 0, 0, 0, 0, 1, 1, 0, 1, 0, 1, 1, 0])"
            ]
          },
          "metadata": {},
          "execution_count": 39
        }
      ]
    },
    {
      "cell_type": "code",
      "source": [
        "#Model Evaluation"
      ],
      "metadata": {
        "id": "fA5joIh1jeyV"
      },
      "execution_count": 40,
      "outputs": []
    },
    {
      "cell_type": "code",
      "source": [
        "from sklearn.metrics import confusion_matrix, accuracy_score, classification_report"
      ],
      "metadata": {
        "id": "cF8PGn9ijnJT"
      },
      "execution_count": 41,
      "outputs": []
    },
    {
      "cell_type": "code",
      "source": [
        "print(confusion_matrix(y_test, y_pred))"
      ],
      "metadata": {
        "colab": {
          "base_uri": "https://localhost:8080/"
        },
        "id": "8eDuasAdj9v7",
        "outputId": "fd7819af-4609-4bfb-b503-437a76ef2495"
      },
      "execution_count": 42,
      "outputs": [
        {
          "output_type": "stream",
          "name": "stdout",
          "text": [
            "[[144   1]\n",
            " [ 10 145]]\n"
          ]
        }
      ]
    },
    {
      "cell_type": "code",
      "source": [
        "print(accuracy_score(y_test, y_pred))"
      ],
      "metadata": {
        "colab": {
          "base_uri": "https://localhost:8080/"
        },
        "id": "v52dRyZXkDoG",
        "outputId": "b91635f7-2a5b-4942-9195-042e7d47fefe"
      },
      "execution_count": 43,
      "outputs": [
        {
          "output_type": "stream",
          "name": "stdout",
          "text": [
            "0.9633333333333334\n"
          ]
        }
      ]
    },
    {
      "cell_type": "code",
      "source": [
        "print(classification_report(y_test, y_pred))"
      ],
      "metadata": {
        "colab": {
          "base_uri": "https://localhost:8080/"
        },
        "id": "cbnKwU7MkJKK",
        "outputId": "6bf986ea-ae04-4cf4-dc5d-afbdf8d1c090"
      },
      "execution_count": 44,
      "outputs": [
        {
          "output_type": "stream",
          "name": "stdout",
          "text": [
            "              precision    recall  f1-score   support\n",
            "\n",
            "           0       0.94      0.99      0.96       145\n",
            "           1       0.99      0.94      0.96       155\n",
            "\n",
            "    accuracy                           0.96       300\n",
            "   macro avg       0.96      0.96      0.96       300\n",
            "weighted avg       0.97      0.96      0.96       300\n",
            "\n"
          ]
        }
      ]
    },
    {
      "cell_type": "code",
      "source": [
        "#hyperparameter tuning using SVC\n",
        "\n",
        "from sklearn.model_selection import GridSearchCV"
      ],
      "metadata": {
        "id": "20tMx4iUkOWZ"
      },
      "execution_count": 45,
      "outputs": []
    },
    {
      "cell_type": "code",
      "source": [
        "params = {'C': [1,2,3,10,20,50,100],\n",
        "          'gamma': [1, 0.01, 0.20, 000.1, 000.03],\n",
        "          'kernel': ['linear']}"
      ],
      "metadata": {
        "id": "CYgLKA-Pl5lT"
      },
      "execution_count": 50,
      "outputs": []
    },
    {
      "cell_type": "code",
      "source": [
        "grid = GridSearchCV(SVC(), param_grid = params, cv = 5, verbose = 3)   #verbos = True >> can also apply\n"
      ],
      "metadata": {
        "id": "btPYeDi5mNO7"
      },
      "execution_count": 57,
      "outputs": []
    },
    {
      "cell_type": "code",
      "source": [
        "grid.fit(X_train, y_train)"
      ],
      "metadata": {
        "colab": {
          "base_uri": "https://localhost:8080/",
          "height": 1000
        },
        "id": "_8iOLPCvnkQP",
        "outputId": "5e0d0b19-b18c-401e-cdb0-7b22009e6d85"
      },
      "execution_count": 58,
      "outputs": [
        {
          "output_type": "stream",
          "name": "stdout",
          "text": [
            "Fitting 5 folds for each of 35 candidates, totalling 175 fits\n",
            "[CV 1/5] END .......C=1, gamma=1, kernel=linear;, score=0.964 total time=   0.1s\n",
            "[CV 2/5] END .......C=1, gamma=1, kernel=linear;, score=0.943 total time=   0.0s\n",
            "[CV 3/5] END .......C=1, gamma=1, kernel=linear;, score=0.936 total time=   0.0s\n",
            "[CV 4/5] END .......C=1, gamma=1, kernel=linear;, score=0.879 total time=   0.1s\n",
            "[CV 5/5] END .......C=1, gamma=1, kernel=linear;, score=0.950 total time=   0.0s\n",
            "[CV 1/5] END ....C=1, gamma=0.01, kernel=linear;, score=0.964 total time=   0.1s\n",
            "[CV 2/5] END ....C=1, gamma=0.01, kernel=linear;, score=0.943 total time=   0.0s\n",
            "[CV 3/5] END ....C=1, gamma=0.01, kernel=linear;, score=0.936 total time=   0.0s\n",
            "[CV 4/5] END ....C=1, gamma=0.01, kernel=linear;, score=0.879 total time=   0.0s\n",
            "[CV 5/5] END ....C=1, gamma=0.01, kernel=linear;, score=0.950 total time=   0.1s\n",
            "[CV 1/5] END .....C=1, gamma=0.2, kernel=linear;, score=0.964 total time=   0.1s\n",
            "[CV 2/5] END .....C=1, gamma=0.2, kernel=linear;, score=0.943 total time=   0.0s\n",
            "[CV 3/5] END .....C=1, gamma=0.2, kernel=linear;, score=0.936 total time=   0.1s\n",
            "[CV 4/5] END .....C=1, gamma=0.2, kernel=linear;, score=0.879 total time=   0.0s\n",
            "[CV 5/5] END .....C=1, gamma=0.2, kernel=linear;, score=0.950 total time=   0.1s\n",
            "[CV 1/5] END .....C=1, gamma=0.1, kernel=linear;, score=0.964 total time=   0.1s\n",
            "[CV 2/5] END .....C=1, gamma=0.1, kernel=linear;, score=0.943 total time=   0.0s\n",
            "[CV 3/5] END .....C=1, gamma=0.1, kernel=linear;, score=0.936 total time=   0.0s\n",
            "[CV 4/5] END .....C=1, gamma=0.1, kernel=linear;, score=0.879 total time=   0.0s\n",
            "[CV 5/5] END .....C=1, gamma=0.1, kernel=linear;, score=0.950 total time=   0.1s\n",
            "[CV 1/5] END ....C=1, gamma=0.03, kernel=linear;, score=0.964 total time=   0.1s\n",
            "[CV 2/5] END ....C=1, gamma=0.03, kernel=linear;, score=0.943 total time=   0.0s\n",
            "[CV 3/5] END ....C=1, gamma=0.03, kernel=linear;, score=0.936 total time=   0.0s\n",
            "[CV 4/5] END ....C=1, gamma=0.03, kernel=linear;, score=0.879 total time=   0.0s\n",
            "[CV 5/5] END ....C=1, gamma=0.03, kernel=linear;, score=0.950 total time=   0.1s\n",
            "[CV 1/5] END .......C=2, gamma=1, kernel=linear;, score=0.964 total time=   0.1s\n",
            "[CV 2/5] END .......C=2, gamma=1, kernel=linear;, score=0.943 total time=   0.1s\n",
            "[CV 3/5] END .......C=2, gamma=1, kernel=linear;, score=0.921 total time=   0.1s\n",
            "[CV 4/5] END .......C=2, gamma=1, kernel=linear;, score=0.886 total time=   0.0s\n",
            "[CV 5/5] END .......C=2, gamma=1, kernel=linear;, score=0.950 total time=   0.1s\n",
            "[CV 1/5] END ....C=2, gamma=0.01, kernel=linear;, score=0.964 total time=   0.1s\n",
            "[CV 2/5] END ....C=2, gamma=0.01, kernel=linear;, score=0.943 total time=   0.1s\n",
            "[CV 3/5] END ....C=2, gamma=0.01, kernel=linear;, score=0.921 total time=   0.1s\n",
            "[CV 4/5] END ....C=2, gamma=0.01, kernel=linear;, score=0.886 total time=   0.0s\n",
            "[CV 5/5] END ....C=2, gamma=0.01, kernel=linear;, score=0.950 total time=   0.0s\n",
            "[CV 1/5] END .....C=2, gamma=0.2, kernel=linear;, score=0.964 total time=   0.1s\n",
            "[CV 2/5] END .....C=2, gamma=0.2, kernel=linear;, score=0.943 total time=   0.0s\n",
            "[CV 3/5] END .....C=2, gamma=0.2, kernel=linear;, score=0.921 total time=   0.1s\n",
            "[CV 4/5] END .....C=2, gamma=0.2, kernel=linear;, score=0.886 total time=   0.0s\n",
            "[CV 5/5] END .....C=2, gamma=0.2, kernel=linear;, score=0.950 total time=   0.1s\n",
            "[CV 1/5] END .....C=2, gamma=0.1, kernel=linear;, score=0.964 total time=   0.1s\n",
            "[CV 2/5] END .....C=2, gamma=0.1, kernel=linear;, score=0.943 total time=   0.1s\n",
            "[CV 3/5] END .....C=2, gamma=0.1, kernel=linear;, score=0.921 total time=   0.1s\n",
            "[CV 4/5] END .....C=2, gamma=0.1, kernel=linear;, score=0.886 total time=   0.0s\n",
            "[CV 5/5] END .....C=2, gamma=0.1, kernel=linear;, score=0.950 total time=   0.1s\n",
            "[CV 1/5] END ....C=2, gamma=0.03, kernel=linear;, score=0.964 total time=   0.1s\n",
            "[CV 2/5] END ....C=2, gamma=0.03, kernel=linear;, score=0.943 total time=   0.1s\n",
            "[CV 3/5] END ....C=2, gamma=0.03, kernel=linear;, score=0.921 total time=   0.0s\n",
            "[CV 4/5] END ....C=2, gamma=0.03, kernel=linear;, score=0.886 total time=   0.0s\n",
            "[CV 5/5] END ....C=2, gamma=0.03, kernel=linear;, score=0.950 total time=   0.0s\n",
            "[CV 1/5] END .......C=3, gamma=1, kernel=linear;, score=0.964 total time=   0.1s\n",
            "[CV 2/5] END .......C=3, gamma=1, kernel=linear;, score=0.943 total time=   0.1s\n",
            "[CV 3/5] END .......C=3, gamma=1, kernel=linear;, score=0.921 total time=   0.0s\n",
            "[CV 4/5] END .......C=3, gamma=1, kernel=linear;, score=0.879 total time=   0.0s\n",
            "[CV 5/5] END .......C=3, gamma=1, kernel=linear;, score=0.950 total time=   0.1s\n",
            "[CV 1/5] END ....C=3, gamma=0.01, kernel=linear;, score=0.964 total time=   0.1s\n",
            "[CV 2/5] END ....C=3, gamma=0.01, kernel=linear;, score=0.943 total time=   0.0s\n",
            "[CV 3/5] END ....C=3, gamma=0.01, kernel=linear;, score=0.921 total time=   0.0s\n",
            "[CV 4/5] END ....C=3, gamma=0.01, kernel=linear;, score=0.879 total time=   0.0s\n",
            "[CV 5/5] END ....C=3, gamma=0.01, kernel=linear;, score=0.950 total time=   0.1s\n",
            "[CV 1/5] END .....C=3, gamma=0.2, kernel=linear;, score=0.964 total time=   0.2s\n",
            "[CV 2/5] END .....C=3, gamma=0.2, kernel=linear;, score=0.943 total time=   0.1s\n",
            "[CV 3/5] END .....C=3, gamma=0.2, kernel=linear;, score=0.921 total time=   0.1s\n",
            "[CV 4/5] END .....C=3, gamma=0.2, kernel=linear;, score=0.879 total time=   0.0s\n",
            "[CV 5/5] END .....C=3, gamma=0.2, kernel=linear;, score=0.950 total time=   0.1s\n",
            "[CV 1/5] END .....C=3, gamma=0.1, kernel=linear;, score=0.964 total time=   0.2s\n",
            "[CV 2/5] END .....C=3, gamma=0.1, kernel=linear;, score=0.943 total time=   0.1s\n",
            "[CV 3/5] END .....C=3, gamma=0.1, kernel=linear;, score=0.921 total time=   0.1s\n",
            "[CV 4/5] END .....C=3, gamma=0.1, kernel=linear;, score=0.879 total time=   0.1s\n",
            "[CV 5/5] END .....C=3, gamma=0.1, kernel=linear;, score=0.950 total time=   0.1s\n",
            "[CV 1/5] END ....C=3, gamma=0.03, kernel=linear;, score=0.964 total time=   0.1s\n",
            "[CV 2/5] END ....C=3, gamma=0.03, kernel=linear;, score=0.943 total time=   0.1s\n",
            "[CV 3/5] END ....C=3, gamma=0.03, kernel=linear;, score=0.921 total time=   0.0s\n",
            "[CV 4/5] END ....C=3, gamma=0.03, kernel=linear;, score=0.879 total time=   0.1s\n",
            "[CV 5/5] END ....C=3, gamma=0.03, kernel=linear;, score=0.950 total time=   0.1s\n",
            "[CV 1/5] END ......C=10, gamma=1, kernel=linear;, score=0.964 total time=   0.2s\n",
            "[CV 2/5] END ......C=10, gamma=1, kernel=linear;, score=0.943 total time=   0.2s\n",
            "[CV 3/5] END ......C=10, gamma=1, kernel=linear;, score=0.929 total time=   0.3s\n",
            "[CV 4/5] END ......C=10, gamma=1, kernel=linear;, score=0.886 total time=   0.2s\n",
            "[CV 5/5] END ......C=10, gamma=1, kernel=linear;, score=0.950 total time=   0.2s\n",
            "[CV 1/5] END ...C=10, gamma=0.01, kernel=linear;, score=0.964 total time=   0.3s\n",
            "[CV 2/5] END ...C=10, gamma=0.01, kernel=linear;, score=0.943 total time=   0.2s\n",
            "[CV 3/5] END ...C=10, gamma=0.01, kernel=linear;, score=0.929 total time=   0.3s\n",
            "[CV 4/5] END ...C=10, gamma=0.01, kernel=linear;, score=0.886 total time=   0.2s\n",
            "[CV 5/5] END ...C=10, gamma=0.01, kernel=linear;, score=0.950 total time=   0.2s\n",
            "[CV 1/5] END ....C=10, gamma=0.2, kernel=linear;, score=0.964 total time=   0.3s\n",
            "[CV 2/5] END ....C=10, gamma=0.2, kernel=linear;, score=0.943 total time=   0.3s\n",
            "[CV 3/5] END ....C=10, gamma=0.2, kernel=linear;, score=0.929 total time=   0.3s\n",
            "[CV 4/5] END ....C=10, gamma=0.2, kernel=linear;, score=0.886 total time=   0.2s\n",
            "[CV 5/5] END ....C=10, gamma=0.2, kernel=linear;, score=0.950 total time=   0.3s\n",
            "[CV 1/5] END ....C=10, gamma=0.1, kernel=linear;, score=0.964 total time=   0.2s\n",
            "[CV 2/5] END ....C=10, gamma=0.1, kernel=linear;, score=0.943 total time=   0.1s\n",
            "[CV 3/5] END ....C=10, gamma=0.1, kernel=linear;, score=0.929 total time=   0.3s\n",
            "[CV 4/5] END ....C=10, gamma=0.1, kernel=linear;, score=0.886 total time=   0.1s\n",
            "[CV 5/5] END ....C=10, gamma=0.1, kernel=linear;, score=0.950 total time=   0.3s\n",
            "[CV 1/5] END ...C=10, gamma=0.03, kernel=linear;, score=0.964 total time=   0.3s\n",
            "[CV 2/5] END ...C=10, gamma=0.03, kernel=linear;, score=0.943 total time=   0.2s\n",
            "[CV 3/5] END ...C=10, gamma=0.03, kernel=linear;, score=0.929 total time=   0.3s\n",
            "[CV 4/5] END ...C=10, gamma=0.03, kernel=linear;, score=0.886 total time=   0.1s\n",
            "[CV 5/5] END ...C=10, gamma=0.03, kernel=linear;, score=0.950 total time=   0.2s\n",
            "[CV 1/5] END ......C=20, gamma=1, kernel=linear;, score=0.964 total time=   0.4s\n",
            "[CV 2/5] END ......C=20, gamma=1, kernel=linear;, score=0.943 total time=   0.5s\n",
            "[CV 3/5] END ......C=20, gamma=1, kernel=linear;, score=0.929 total time=   0.3s\n",
            "[CV 4/5] END ......C=20, gamma=1, kernel=linear;, score=0.886 total time=   0.1s\n",
            "[CV 5/5] END ......C=20, gamma=1, kernel=linear;, score=0.950 total time=   0.2s\n",
            "[CV 1/5] END ...C=20, gamma=0.01, kernel=linear;, score=0.964 total time=   0.2s\n",
            "[CV 2/5] END ...C=20, gamma=0.01, kernel=linear;, score=0.943 total time=   0.3s\n",
            "[CV 3/5] END ...C=20, gamma=0.01, kernel=linear;, score=0.929 total time=   0.2s\n",
            "[CV 4/5] END ...C=20, gamma=0.01, kernel=linear;, score=0.886 total time=   0.1s\n",
            "[CV 5/5] END ...C=20, gamma=0.01, kernel=linear;, score=0.950 total time=   0.2s\n",
            "[CV 1/5] END ....C=20, gamma=0.2, kernel=linear;, score=0.964 total time=   0.2s\n",
            "[CV 2/5] END ....C=20, gamma=0.2, kernel=linear;, score=0.943 total time=   0.3s\n",
            "[CV 3/5] END ....C=20, gamma=0.2, kernel=linear;, score=0.929 total time=   0.2s\n",
            "[CV 4/5] END ....C=20, gamma=0.2, kernel=linear;, score=0.886 total time=   0.1s\n",
            "[CV 5/5] END ....C=20, gamma=0.2, kernel=linear;, score=0.950 total time=   0.1s\n",
            "[CV 1/5] END ....C=20, gamma=0.1, kernel=linear;, score=0.964 total time=   0.1s\n",
            "[CV 2/5] END ....C=20, gamma=0.1, kernel=linear;, score=0.943 total time=   0.2s\n",
            "[CV 3/5] END ....C=20, gamma=0.1, kernel=linear;, score=0.929 total time=   0.2s\n",
            "[CV 4/5] END ....C=20, gamma=0.1, kernel=linear;, score=0.886 total time=   0.1s\n",
            "[CV 5/5] END ....C=20, gamma=0.1, kernel=linear;, score=0.950 total time=   0.1s\n",
            "[CV 1/5] END ...C=20, gamma=0.03, kernel=linear;, score=0.964 total time=   0.1s\n",
            "[CV 2/5] END ...C=20, gamma=0.03, kernel=linear;, score=0.943 total time=   0.2s\n",
            "[CV 3/5] END ...C=20, gamma=0.03, kernel=linear;, score=0.929 total time=   0.2s\n",
            "[CV 4/5] END ...C=20, gamma=0.03, kernel=linear;, score=0.886 total time=   0.1s\n",
            "[CV 5/5] END ...C=20, gamma=0.03, kernel=linear;, score=0.950 total time=   0.1s\n",
            "[CV 1/5] END ......C=50, gamma=1, kernel=linear;, score=0.964 total time=   0.2s\n",
            "[CV 2/5] END ......C=50, gamma=1, kernel=linear;, score=0.943 total time=   0.5s\n",
            "[CV 3/5] END ......C=50, gamma=1, kernel=linear;, score=0.929 total time=   0.4s\n",
            "[CV 4/5] END ......C=50, gamma=1, kernel=linear;, score=0.886 total time=   0.2s\n",
            "[CV 5/5] END ......C=50, gamma=1, kernel=linear;, score=0.950 total time=   0.2s\n",
            "[CV 1/5] END ...C=50, gamma=0.01, kernel=linear;, score=0.964 total time=   0.2s\n",
            "[CV 2/5] END ...C=50, gamma=0.01, kernel=linear;, score=0.943 total time=   0.5s\n",
            "[CV 3/5] END ...C=50, gamma=0.01, kernel=linear;, score=0.929 total time=   0.4s\n",
            "[CV 4/5] END ...C=50, gamma=0.01, kernel=linear;, score=0.886 total time=   0.2s\n",
            "[CV 5/5] END ...C=50, gamma=0.01, kernel=linear;, score=0.950 total time=   0.2s\n",
            "[CV 1/5] END ....C=50, gamma=0.2, kernel=linear;, score=0.964 total time=   0.2s\n",
            "[CV 2/5] END ....C=50, gamma=0.2, kernel=linear;, score=0.943 total time=   0.5s\n",
            "[CV 3/5] END ....C=50, gamma=0.2, kernel=linear;, score=0.929 total time=   0.4s\n",
            "[CV 4/5] END ....C=50, gamma=0.2, kernel=linear;, score=0.886 total time=   0.2s\n",
            "[CV 5/5] END ....C=50, gamma=0.2, kernel=linear;, score=0.950 total time=   0.2s\n",
            "[CV 1/5] END ....C=50, gamma=0.1, kernel=linear;, score=0.964 total time=   0.2s\n",
            "[CV 2/5] END ....C=50, gamma=0.1, kernel=linear;, score=0.943 total time=   0.5s\n",
            "[CV 3/5] END ....C=50, gamma=0.1, kernel=linear;, score=0.929 total time=   0.4s\n",
            "[CV 4/5] END ....C=50, gamma=0.1, kernel=linear;, score=0.886 total time=   0.2s\n",
            "[CV 5/5] END ....C=50, gamma=0.1, kernel=linear;, score=0.950 total time=   0.3s\n",
            "[CV 1/5] END ...C=50, gamma=0.03, kernel=linear;, score=0.964 total time=   0.2s\n",
            "[CV 2/5] END ...C=50, gamma=0.03, kernel=linear;, score=0.943 total time=   0.5s\n",
            "[CV 3/5] END ...C=50, gamma=0.03, kernel=linear;, score=0.929 total time=   0.4s\n",
            "[CV 4/5] END ...C=50, gamma=0.03, kernel=linear;, score=0.886 total time=   0.2s\n",
            "[CV 5/5] END ...C=50, gamma=0.03, kernel=linear;, score=0.950 total time=   0.2s\n",
            "[CV 1/5] END .....C=100, gamma=1, kernel=linear;, score=0.964 total time=   0.6s\n",
            "[CV 2/5] END .....C=100, gamma=1, kernel=linear;, score=0.943 total time=   1.3s\n",
            "[CV 3/5] END .....C=100, gamma=1, kernel=linear;, score=0.929 total time=   1.1s\n",
            "[CV 4/5] END .....C=100, gamma=1, kernel=linear;, score=0.886 total time=   0.4s\n",
            "[CV 5/5] END .....C=100, gamma=1, kernel=linear;, score=0.950 total time=   0.7s\n",
            "[CV 1/5] END ..C=100, gamma=0.01, kernel=linear;, score=0.964 total time=   0.9s\n",
            "[CV 2/5] END ..C=100, gamma=0.01, kernel=linear;, score=0.943 total time=   1.0s\n",
            "[CV 3/5] END ..C=100, gamma=0.01, kernel=linear;, score=0.929 total time=   0.7s\n",
            "[CV 4/5] END ..C=100, gamma=0.01, kernel=linear;, score=0.886 total time=   0.3s\n",
            "[CV 5/5] END ..C=100, gamma=0.01, kernel=linear;, score=0.950 total time=   0.4s\n",
            "[CV 1/5] END ...C=100, gamma=0.2, kernel=linear;, score=0.964 total time=   0.6s\n",
            "[CV 2/5] END ...C=100, gamma=0.2, kernel=linear;, score=0.943 total time=   1.0s\n",
            "[CV 3/5] END ...C=100, gamma=0.2, kernel=linear;, score=0.929 total time=   0.7s\n",
            "[CV 4/5] END ...C=100, gamma=0.2, kernel=linear;, score=0.886 total time=   0.3s\n",
            "[CV 5/5] END ...C=100, gamma=0.2, kernel=linear;, score=0.950 total time=   0.4s\n",
            "[CV 1/5] END ...C=100, gamma=0.1, kernel=linear;, score=0.964 total time=   0.6s\n",
            "[CV 2/5] END ...C=100, gamma=0.1, kernel=linear;, score=0.943 total time=   1.0s\n",
            "[CV 3/5] END ...C=100, gamma=0.1, kernel=linear;, score=0.929 total time=   0.7s\n",
            "[CV 4/5] END ...C=100, gamma=0.1, kernel=linear;, score=0.886 total time=   0.3s\n",
            "[CV 5/5] END ...C=100, gamma=0.1, kernel=linear;, score=0.950 total time=   0.5s\n",
            "[CV 1/5] END ..C=100, gamma=0.03, kernel=linear;, score=0.964 total time=   0.7s\n",
            "[CV 2/5] END ..C=100, gamma=0.03, kernel=linear;, score=0.943 total time=   1.1s\n",
            "[CV 3/5] END ..C=100, gamma=0.03, kernel=linear;, score=0.929 total time=   1.9s\n",
            "[CV 4/5] END ..C=100, gamma=0.03, kernel=linear;, score=0.886 total time=   0.5s\n",
            "[CV 5/5] END ..C=100, gamma=0.03, kernel=linear;, score=0.950 total time=   0.7s\n"
          ]
        },
        {
          "output_type": "execute_result",
          "data": {
            "text/plain": [
              "GridSearchCV(cv=5, estimator=SVC(),\n",
              "             param_grid={'C': [1, 2, 3, 10, 20, 50, 100],\n",
              "                         'gamma': [1, 0.01, 0.2, 0.1, 0.03],\n",
              "                         'kernel': ['linear']},\n",
              "             verbose=3)"
            ],
            "text/html": [
              "<style>#sk-container-id-3 {color: black;}#sk-container-id-3 pre{padding: 0;}#sk-container-id-3 div.sk-toggleable {background-color: white;}#sk-container-id-3 label.sk-toggleable__label {cursor: pointer;display: block;width: 100%;margin-bottom: 0;padding: 0.3em;box-sizing: border-box;text-align: center;}#sk-container-id-3 label.sk-toggleable__label-arrow:before {content: \"▸\";float: left;margin-right: 0.25em;color: #696969;}#sk-container-id-3 label.sk-toggleable__label-arrow:hover:before {color: black;}#sk-container-id-3 div.sk-estimator:hover label.sk-toggleable__label-arrow:before {color: black;}#sk-container-id-3 div.sk-toggleable__content {max-height: 0;max-width: 0;overflow: hidden;text-align: left;background-color: #f0f8ff;}#sk-container-id-3 div.sk-toggleable__content pre {margin: 0.2em;color: black;border-radius: 0.25em;background-color: #f0f8ff;}#sk-container-id-3 input.sk-toggleable__control:checked~div.sk-toggleable__content {max-height: 200px;max-width: 100%;overflow: auto;}#sk-container-id-3 input.sk-toggleable__control:checked~label.sk-toggleable__label-arrow:before {content: \"▾\";}#sk-container-id-3 div.sk-estimator input.sk-toggleable__control:checked~label.sk-toggleable__label {background-color: #d4ebff;}#sk-container-id-3 div.sk-label input.sk-toggleable__control:checked~label.sk-toggleable__label {background-color: #d4ebff;}#sk-container-id-3 input.sk-hidden--visually {border: 0;clip: rect(1px 1px 1px 1px);clip: rect(1px, 1px, 1px, 1px);height: 1px;margin: -1px;overflow: hidden;padding: 0;position: absolute;width: 1px;}#sk-container-id-3 div.sk-estimator {font-family: monospace;background-color: #f0f8ff;border: 1px dotted black;border-radius: 0.25em;box-sizing: border-box;margin-bottom: 0.5em;}#sk-container-id-3 div.sk-estimator:hover {background-color: #d4ebff;}#sk-container-id-3 div.sk-parallel-item::after {content: \"\";width: 100%;border-bottom: 1px solid gray;flex-grow: 1;}#sk-container-id-3 div.sk-label:hover label.sk-toggleable__label {background-color: #d4ebff;}#sk-container-id-3 div.sk-serial::before {content: \"\";position: absolute;border-left: 1px solid gray;box-sizing: border-box;top: 0;bottom: 0;left: 50%;z-index: 0;}#sk-container-id-3 div.sk-serial {display: flex;flex-direction: column;align-items: center;background-color: white;padding-right: 0.2em;padding-left: 0.2em;position: relative;}#sk-container-id-3 div.sk-item {position: relative;z-index: 1;}#sk-container-id-3 div.sk-parallel {display: flex;align-items: stretch;justify-content: center;background-color: white;position: relative;}#sk-container-id-3 div.sk-item::before, #sk-container-id-3 div.sk-parallel-item::before {content: \"\";position: absolute;border-left: 1px solid gray;box-sizing: border-box;top: 0;bottom: 0;left: 50%;z-index: -1;}#sk-container-id-3 div.sk-parallel-item {display: flex;flex-direction: column;z-index: 1;position: relative;background-color: white;}#sk-container-id-3 div.sk-parallel-item:first-child::after {align-self: flex-end;width: 50%;}#sk-container-id-3 div.sk-parallel-item:last-child::after {align-self: flex-start;width: 50%;}#sk-container-id-3 div.sk-parallel-item:only-child::after {width: 0;}#sk-container-id-3 div.sk-dashed-wrapped {border: 1px dashed gray;margin: 0 0.4em 0.5em 0.4em;box-sizing: border-box;padding-bottom: 0.4em;background-color: white;}#sk-container-id-3 div.sk-label label {font-family: monospace;font-weight: bold;display: inline-block;line-height: 1.2em;}#sk-container-id-3 div.sk-label-container {text-align: center;}#sk-container-id-3 div.sk-container {/* jupyter's `normalize.less` sets `[hidden] { display: none; }` but bootstrap.min.css set `[hidden] { display: none !important; }` so we also need the `!important` here to be able to override the default hidden behavior on the sphinx rendered scikit-learn.org. See: https://github.com/scikit-learn/scikit-learn/issues/21755 */display: inline-block !important;position: relative;}#sk-container-id-3 div.sk-text-repr-fallback {display: none;}</style><div id=\"sk-container-id-3\" class=\"sk-top-container\"><div class=\"sk-text-repr-fallback\"><pre>GridSearchCV(cv=5, estimator=SVC(),\n",
              "             param_grid={&#x27;C&#x27;: [1, 2, 3, 10, 20, 50, 100],\n",
              "                         &#x27;gamma&#x27;: [1, 0.01, 0.2, 0.1, 0.03],\n",
              "                         &#x27;kernel&#x27;: [&#x27;linear&#x27;]},\n",
              "             verbose=3)</pre><b>In a Jupyter environment, please rerun this cell to show the HTML representation or trust the notebook. <br />On GitHub, the HTML representation is unable to render, please try loading this page with nbviewer.org.</b></div><div class=\"sk-container\" hidden><div class=\"sk-item sk-dashed-wrapped\"><div class=\"sk-label-container\"><div class=\"sk-label sk-toggleable\"><input class=\"sk-toggleable__control sk-hidden--visually\" id=\"sk-estimator-id-5\" type=\"checkbox\" ><label for=\"sk-estimator-id-5\" class=\"sk-toggleable__label sk-toggleable__label-arrow\">GridSearchCV</label><div class=\"sk-toggleable__content\"><pre>GridSearchCV(cv=5, estimator=SVC(),\n",
              "             param_grid={&#x27;C&#x27;: [1, 2, 3, 10, 20, 50, 100],\n",
              "                         &#x27;gamma&#x27;: [1, 0.01, 0.2, 0.1, 0.03],\n",
              "                         &#x27;kernel&#x27;: [&#x27;linear&#x27;]},\n",
              "             verbose=3)</pre></div></div></div><div class=\"sk-parallel\"><div class=\"sk-parallel-item\"><div class=\"sk-item\"><div class=\"sk-label-container\"><div class=\"sk-label sk-toggleable\"><input class=\"sk-toggleable__control sk-hidden--visually\" id=\"sk-estimator-id-6\" type=\"checkbox\" ><label for=\"sk-estimator-id-6\" class=\"sk-toggleable__label sk-toggleable__label-arrow\">estimator: SVC</label><div class=\"sk-toggleable__content\"><pre>SVC()</pre></div></div></div><div class=\"sk-serial\"><div class=\"sk-item\"><div class=\"sk-estimator sk-toggleable\"><input class=\"sk-toggleable__control sk-hidden--visually\" id=\"sk-estimator-id-7\" type=\"checkbox\" ><label for=\"sk-estimator-id-7\" class=\"sk-toggleable__label sk-toggleable__label-arrow\">SVC</label><div class=\"sk-toggleable__content\"><pre>SVC()</pre></div></div></div></div></div></div></div></div></div></div>"
            ]
          },
          "metadata": {},
          "execution_count": 58
        }
      ]
    },
    {
      "cell_type": "code",
      "source": [
        "grid.best_params_"
      ],
      "metadata": {
        "colab": {
          "base_uri": "https://localhost:8080/"
        },
        "id": "LhKD7Wk2n1cv",
        "outputId": "63d5b0b5-1caf-4540-8b62-308dba4c7696"
      },
      "execution_count": 59,
      "outputs": [
        {
          "output_type": "execute_result",
          "data": {
            "text/plain": [
              "{'C': 1, 'gamma': 1, 'kernel': 'linear'}"
            ]
          },
          "metadata": {},
          "execution_count": 59
        }
      ]
    },
    {
      "cell_type": "code",
      "source": [
        "grid.best_score_"
      ],
      "metadata": {
        "colab": {
          "base_uri": "https://localhost:8080/"
        },
        "id": "1dsCfx9MoYa-",
        "outputId": "d8f76272-4a96-46cc-9f34-348e98e04b75"
      },
      "execution_count": 61,
      "outputs": [
        {
          "output_type": "execute_result",
          "data": {
            "text/plain": [
              "0.9342857142857142"
            ]
          },
          "metadata": {},
          "execution_count": 61
        }
      ]
    },
    {
      "cell_type": "code",
      "source": [
        "y_pred = grid.predict(X_test)"
      ],
      "metadata": {
        "id": "XwT_uOSloawU"
      },
      "execution_count": 63,
      "outputs": []
    },
    {
      "cell_type": "code",
      "source": [
        "y_pred"
      ],
      "metadata": {
        "colab": {
          "base_uri": "https://localhost:8080/"
        },
        "id": "504dziJzotRZ",
        "outputId": "2fa2fe63-782c-4931-87e1-48e0859c144c"
      },
      "execution_count": 64,
      "outputs": [
        {
          "output_type": "execute_result",
          "data": {
            "text/plain": [
              "array([0, 1, 1, 1, 1, 1, 1, 0, 0, 1, 0, 1, 0, 1, 1, 1, 0, 0, 0, 0, 1, 0,\n",
              "       0, 1, 0, 1, 1, 0, 0, 0, 0, 1, 1, 1, 0, 1, 1, 1, 1, 0, 1, 0, 0, 0,\n",
              "       0, 1, 1, 0, 0, 1, 1, 0, 0, 0, 0, 0, 1, 1, 0, 0, 1, 1, 0, 0, 0, 1,\n",
              "       0, 0, 0, 0, 1, 1, 0, 1, 1, 1, 0, 0, 1, 1, 0, 0, 1, 0, 0, 0, 0, 0,\n",
              "       1, 1, 0, 1, 1, 0, 1, 0, 1, 1, 0, 0, 0, 1, 1, 0, 0, 1, 0, 0, 1, 0,\n",
              "       1, 0, 1, 1, 0, 1, 1, 1, 1, 0, 1, 1, 1, 0, 1, 0, 0, 0, 0, 1, 1, 0,\n",
              "       0, 1, 1, 1, 1, 0, 1, 0, 0, 1, 1, 0, 0, 1, 1, 1, 0, 0, 1, 1, 1, 0,\n",
              "       1, 0, 0, 1, 1, 0, 1, 1, 1, 0, 1, 1, 0, 0, 1, 0, 1, 1, 1, 0, 0, 0,\n",
              "       1, 1, 0, 1, 0, 1, 1, 1, 1, 0, 0, 0, 0, 0, 1, 0, 0, 1, 0, 0, 0, 1,\n",
              "       1, 0, 1, 0, 0, 0, 1, 0, 0, 1, 1, 1, 0, 1, 1, 0, 1, 0, 0, 0, 1, 0,\n",
              "       1, 1, 0, 0, 1, 1, 0, 0, 1, 0, 1, 1, 0, 1, 1, 0, 0, 1, 0, 1, 1, 0,\n",
              "       1, 0, 0, 1, 1, 0, 0, 1, 1, 1, 0, 1, 0, 1, 0, 1, 0, 0, 1, 1, 1, 0,\n",
              "       0, 0, 0, 0, 0, 0, 0, 1, 1, 0, 0, 0, 1, 0, 0, 1, 1, 1, 1, 0, 0, 0,\n",
              "       1, 0, 0, 0, 0, 0, 1, 1, 0, 1, 0, 1, 1, 0])"
            ]
          },
          "metadata": {},
          "execution_count": 64
        }
      ]
    },
    {
      "cell_type": "code",
      "source": [
        "from sklearn.metrics import confusion_matrix, accuracy_score, classification_report"
      ],
      "metadata": {
        "id": "PQgFFxpvowBf"
      },
      "execution_count": 65,
      "outputs": []
    },
    {
      "cell_type": "code",
      "source": [
        "print(confusion_matrix(y_test, y_pred))"
      ],
      "metadata": {
        "colab": {
          "base_uri": "https://localhost:8080/"
        },
        "id": "PmFKqM4ypFGH",
        "outputId": "a8a71df1-a08f-47e9-8ed7-291e53f2a361"
      },
      "execution_count": 66,
      "outputs": [
        {
          "output_type": "stream",
          "name": "stdout",
          "text": [
            "[[144   1]\n",
            " [ 10 145]]\n"
          ]
        }
      ]
    },
    {
      "cell_type": "code",
      "source": [
        "print(accuracy_score(y_test, y_pred))"
      ],
      "metadata": {
        "colab": {
          "base_uri": "https://localhost:8080/"
        },
        "id": "F7UObBB6pLn2",
        "outputId": "a08a5254-1d53-4499-cd7f-1de28f745a72"
      },
      "execution_count": 67,
      "outputs": [
        {
          "output_type": "stream",
          "name": "stdout",
          "text": [
            "0.9633333333333334\n"
          ]
        }
      ]
    },
    {
      "cell_type": "code",
      "source": [
        "print(classification_report(y_test, y_pred))"
      ],
      "metadata": {
        "colab": {
          "base_uri": "https://localhost:8080/"
        },
        "id": "T0PrYqFkpQpx",
        "outputId": "2420818b-1805-4693-d942-2b33a47cd30a"
      },
      "execution_count": 68,
      "outputs": [
        {
          "output_type": "stream",
          "name": "stdout",
          "text": [
            "              precision    recall  f1-score   support\n",
            "\n",
            "           0       0.94      0.99      0.96       145\n",
            "           1       0.99      0.94      0.96       155\n",
            "\n",
            "    accuracy                           0.96       300\n",
            "   macro avg       0.96      0.96      0.96       300\n",
            "weighted avg       0.97      0.96      0.96       300\n",
            "\n"
          ]
        }
      ]
    }
  ]
}